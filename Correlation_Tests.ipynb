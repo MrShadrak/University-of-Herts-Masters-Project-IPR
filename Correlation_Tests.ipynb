{
 "cells": [
  {
   "cell_type": "code",
   "execution_count": 1,
   "id": "bd7fd22e",
   "metadata": {},
   "outputs": [
    {
     "name": "stderr",
     "output_type": "stream",
     "text": [
      "C:\\Users\\alexm\\AppData\\Local\\Temp\\ipykernel_16292\\2666311723.py:15: SettingWithCopyWarning: \n",
      "A value is trying to be set on a copy of a slice from a DataFrame.\n",
      "Try using .loc[row_indexer,col_indexer] = value instead\n",
      "\n",
      "See the caveats in the documentation: https://pandas.pydata.org/pandas-docs/stable/user_guide/indexing.html#returning-a-view-versus-a-copy\n",
      "  filtered_df['Index'] = range(0,119)\n",
      "C:\\Users\\alexm\\AppData\\Local\\Temp\\ipykernel_16292\\2666311723.py:21: SettingWithCopyWarning: \n",
      "A value is trying to be set on a copy of a slice from a DataFrame.\n",
      "Try using .loc[row_indexer,col_indexer] = value instead\n",
      "\n",
      "See the caveats in the documentation: https://pandas.pydata.org/pandas-docs/stable/user_guide/indexing.html#returning-a-view-versus-a-copy\n",
      "  filtered_df[['Volume']] = (filtered_df[['Volume']] - vol_mean) / vol_std\n"
     ]
    },
    {
     "data": {
      "text/html": [
       "<div>\n",
       "<style scoped>\n",
       "    .dataframe tbody tr th:only-of-type {\n",
       "        vertical-align: middle;\n",
       "    }\n",
       "\n",
       "    .dataframe tbody tr th {\n",
       "        vertical-align: top;\n",
       "    }\n",
       "\n",
       "    .dataframe thead th {\n",
       "        text-align: right;\n",
       "    }\n",
       "</style>\n",
       "<table border=\"1\" class=\"dataframe\">\n",
       "  <thead>\n",
       "    <tr style=\"text-align: right;\">\n",
       "      <th></th>\n",
       "      <th>Local time</th>\n",
       "      <th>Open</th>\n",
       "      <th>High</th>\n",
       "      <th>Low</th>\n",
       "      <th>Close</th>\n",
       "      <th>Volume</th>\n",
       "      <th>Index</th>\n",
       "      <th>Date</th>\n",
       "    </tr>\n",
       "  </thead>\n",
       "  <tbody>\n",
       "    <tr>\n",
       "      <th>1</th>\n",
       "      <td>01.01.2024 22:00:00.000 GMT-0000</td>\n",
       "      <td>1.27184</td>\n",
       "      <td>1.27596</td>\n",
       "      <td>1.26105</td>\n",
       "      <td>1.26149</td>\n",
       "      <td>1.479164</td>\n",
       "      <td>0</td>\n",
       "      <td>2024-01-01</td>\n",
       "    </tr>\n",
       "    <tr>\n",
       "      <th>2</th>\n",
       "      <td>02.01.2024 22:00:00.000 GMT-0000</td>\n",
       "      <td>1.26149</td>\n",
       "      <td>1.26761</td>\n",
       "      <td>1.26139</td>\n",
       "      <td>1.26635</td>\n",
       "      <td>2.172674</td>\n",
       "      <td>1</td>\n",
       "      <td>2024-01-02</td>\n",
       "    </tr>\n",
       "    <tr>\n",
       "      <th>3</th>\n",
       "      <td>03.01.2024 22:00:00.000 GMT-0000</td>\n",
       "      <td>1.26629</td>\n",
       "      <td>1.27296</td>\n",
       "      <td>1.26565</td>\n",
       "      <td>1.26808</td>\n",
       "      <td>1.262317</td>\n",
       "      <td>2</td>\n",
       "      <td>2024-01-03</td>\n",
       "    </tr>\n",
       "    <tr>\n",
       "      <th>4</th>\n",
       "      <td>04.01.2024 22:00:00.000 GMT-0000</td>\n",
       "      <td>1.26808</td>\n",
       "      <td>1.27707</td>\n",
       "      <td>1.26106</td>\n",
       "      <td>1.27173</td>\n",
       "      <td>2.642993</td>\n",
       "      <td>3</td>\n",
       "      <td>2024-01-04</td>\n",
       "    </tr>\n",
       "    <tr>\n",
       "      <th>7</th>\n",
       "      <td>07.01.2024 22:00:00.000 GMT-0000</td>\n",
       "      <td>1.27018</td>\n",
       "      <td>1.27668</td>\n",
       "      <td>1.26729</td>\n",
       "      <td>1.27469</td>\n",
       "      <td>0.068338</td>\n",
       "      <td>4</td>\n",
       "      <td>2024-01-07</td>\n",
       "    </tr>\n",
       "  </tbody>\n",
       "</table>\n",
       "</div>"
      ],
      "text/plain": [
       "                         Local time     Open     High      Low    Close  \\\n",
       "1  01.01.2024 22:00:00.000 GMT-0000  1.27184  1.27596  1.26105  1.26149   \n",
       "2  02.01.2024 22:00:00.000 GMT-0000  1.26149  1.26761  1.26139  1.26635   \n",
       "3  03.01.2024 22:00:00.000 GMT-0000  1.26629  1.27296  1.26565  1.26808   \n",
       "4  04.01.2024 22:00:00.000 GMT-0000  1.26808  1.27707  1.26106  1.27173   \n",
       "7  07.01.2024 22:00:00.000 GMT-0000  1.27018  1.27668  1.26729  1.27469   \n",
       "\n",
       "     Volume  Index       Date  \n",
       "1  1.479164      0 2024-01-01  \n",
       "2  2.172674      1 2024-01-02  \n",
       "3  1.262317      2 2024-01-03  \n",
       "4  2.642993      3 2024-01-04  \n",
       "7  0.068338      4 2024-01-07  "
      ]
     },
     "execution_count": 1,
     "metadata": {},
     "output_type": "execute_result"
    }
   ],
   "source": [
    "import numpy as np\n",
    "import pandas as pd\n",
    "\n",
    "#load the GBPUSD_BID dataset\n",
    "df = pd.read_csv(r'C:\\Users\\alexm\\FX_project\\2024_YTD\\GBPUSD_BID_15.06.2024_YTD.csv')\n",
    "\n",
    "# reformat Local time variable as a datetime\n",
    "from datetime import datetime\n",
    "\n",
    "df['Date'] = df['Local time'].str[6:10] +'-'+ df['Local time'].str[3:5] +'-'+ df['Local time'].str[0:2]\n",
    "df['Date'] = pd.to_datetime(df['Date'])\n",
    "\n",
    "# remove lines where Volume = 0\n",
    "filtered_df = df[df['Volume'] != 0]\n",
    "filtered_df['Index'] = range(0,119)\n",
    "\n",
    "# normalise volume\n",
    "vol_std = filtered_df[['Volume']].std()\n",
    "vol_mean = filtered_df[['Volume']].mean()\n",
    "\n",
    "filtered_df[['Volume']] = (filtered_df[['Volume']] - vol_mean) / vol_std\n",
    "\n",
    "filtered_df.head()"
   ]
  },
  {
   "cell_type": "code",
   "execution_count": 2,
   "id": "39d351a9",
   "metadata": {},
   "outputs": [
    {
     "data": {
      "text/plain": [
       "-0.04533765152578921"
      ]
     },
     "execution_count": 2,
     "metadata": {},
     "output_type": "execute_result"
    }
   ],
   "source": [
    "# convert filtered_df to array\n",
    "data = np.array(filtered_df[['Volume', 'Close']])\n",
    "\n",
    "# calculate pearsons correlation with an exogenous feature (volume in this case)\n",
    "corr = np.corrcoef(data[:,0], data[:,1])\n",
    "corr[0,1]"
   ]
  },
  {
   "cell_type": "code",
   "execution_count": 15,
   "id": "bdc94ecf",
   "metadata": {},
   "outputs": [
    {
     "name": "stdout",
     "output_type": "stream",
     "text": [
      "nan\n"
     ]
    },
    {
     "name": "stderr",
     "output_type": "stream",
     "text": [
      "C:\\Users\\alexm\\AppData\\Local\\Temp\\ipykernel_17424\\1991030783.py:2: RuntimeWarning: invalid value encountered in log\n",
      "  log_data = np.log(data)\n"
     ]
    },
    {
     "data": {
      "text/plain": [
       "array([[ 0.39147708,  0.23229356],\n",
       "       [ 0.77595866,  0.23613875],\n",
       "       [ 0.23294897,  0.23750395],\n",
       "       [ 0.9719119 ,  0.24037818],\n",
       "       [-2.68328437,  0.24270301],\n",
       "       [-1.76803922,  0.23970957],\n",
       "       [        nan,  0.24231068],\n",
       "       [ 1.06996978,  0.24359695],\n",
       "       [ 0.62046851,  0.24273439],\n",
       "       [-0.63583628,  0.24103848]])"
      ]
     },
     "execution_count": 15,
     "metadata": {},
     "output_type": "execute_result"
    }
   ],
   "source": [
    "# check the correlation with the log of the time series\n",
    "log_data = np.log(data)\n",
    "\n",
    "log_corr = np.corrcoef(log_data[:,0], log_data[:,1])\n",
    "print(log_corr[0,1])\n",
    "log_data[0:10,]\n",
    "\n",
    "# issue with using log of the normalised volume since some values are -ve. Only use this for non-log volumes \n",
    "# looks like the varialble i'm currently using is not an driver of fx rates in this dataset, contrary to technical analysis"
   ]
  },
  {
   "cell_type": "code",
   "execution_count": 5,
   "id": "60d0eefd",
   "metadata": {},
   "outputs": [
    {
     "name": "stdout",
     "output_type": "stream",
     "text": [
      "Statistics=7.944, p=0.019\n",
      "Sample does not look Gaussian (reject H0)\n"
     ]
    }
   ],
   "source": [
    "# D'Agostino and Pearson's Test\n",
    "from scipy.stats import normaltest\n",
    "\n",
    "# normality test\n",
    "stat, p = normaltest(data[:,1])\n",
    "print('Statistics=%.3f, p=%.3f' % (stat, p))\n",
    "\n",
    "# interpret results\n",
    "alpha = 0.05\n",
    "if p > alpha:\n",
    "    print('Sample looks Gaussian (fail to reject H0)')\n",
    "else:\n",
    "    print('Sample does not look Gaussian (reject H0)')"
   ]
  },
  {
   "cell_type": "code",
   "execution_count": 7,
   "id": "a3ea640e",
   "metadata": {},
   "outputs": [
    {
     "name": "stdout",
     "output_type": "stream",
     "text": [
      "-0.12796322441728114\n",
      "0.16547579323308845\n"
     ]
    }
   ],
   "source": [
    "# Spearman rank correlation\n",
    "from scipy.stats import spearmanr\n",
    "\n",
    "rho, p = spearmanr(data[:,0], data[:,1])\n",
    "\n",
    "print(rho)\n",
    "print(p)\n",
    "\n",
    "# indicates a negative correlation as per pearson's but with p value > 0.05 it is not statistically significant"
   ]
  },
  {
   "cell_type": "code",
   "execution_count": 11,
   "id": "6e54a45b",
   "metadata": {},
   "outputs": [
    {
     "data": {
      "text/plain": [
       "(array([ 2.,  0.,  0.,  5.,  2.,  3.,  4.,  5.,  6.,  8.,  9.,  9., 10.,\n",
       "        14., 14., 13.,  5.,  6.,  3.,  1.]),\n",
       " array([1.23485  , 1.2373815, 1.239913 , 1.2424445, 1.244976 , 1.2475075,\n",
       "        1.250039 , 1.2525705, 1.255102 , 1.2576335, 1.260165 , 1.2626965,\n",
       "        1.265228 , 1.2677595, 1.270291 , 1.2728225, 1.275354 , 1.2778855,\n",
       "        1.280417 , 1.2829485, 1.28548  ]),\n",
       " <BarContainer object of 20 artists>)"
      ]
     },
     "execution_count": 11,
     "metadata": {},
     "output_type": "execute_result"
    },
    {
     "data": {
      "image/png": "[encoded data removed]",
      "text/plain": [
       "<Figure size 432x288 with 1 Axes>"
      ]
     },
     "metadata": {
      "needs_background": "light"
     },
     "output_type": "display_data"
    }
   ],
   "source": [
    "# check the distribution shape\n",
    "import matplotlib.pyplot as plt\n",
    "\n",
    "fig = plt.figure()\n",
    "plt.hist(data[:,1], bins=20)\n"
   ]
  },
  {
   "cell_type": "code",
   "execution_count": 9,
   "id": "f76f02fa",
   "metadata": {},
   "outputs": [
    {
     "data": {
      "image/png": "[encoded data removed]",
      "text/plain": [
       "<Figure size 432x288 with 1 Axes>"
      ]
     },
     "execution_count": 9,
     "metadata": {},
     "output_type": "execute_result"
    },
    {
     "data": {
      "image/png": "[encoded data removed]",
      "text/plain": [
       "<Figure size 432x288 with 1 Axes>"
      ]
     },
     "metadata": {
      "needs_background": "light"
     },
     "output_type": "display_data"
    }
   ],
   "source": [
    "# autocorrelations\n",
    "import pandas as pd\n",
    "from statsmodels.graphics.tsaplots import plot_acf\n",
    "\n",
    "# calculate autocorrelations and confidence interval with significance alpha\n",
    "plot_acf(filtered_df[['Close']], alpha = 0.05)\n",
    "\n",
    "# this shows there is some correlation at 5% significance up to 7 trading days prior.\n",
    "# short run, there is +ve correlation and longer this reverts to -ve. This is an indicator of non-staionary data...\n",
    "# ..., trending and also some level of mean reversion, typical of financial markets\n",
    "# no seasonality is present yet but we could use this analysis for longer times series\n",
    "# conclusion is there is a lot of noise in the data but also some structure. we should look into denoising"
   ]
  },
  {
   "cell_type": "code",
   "execution_count": 10,
   "id": "f5b4be29",
   "metadata": {},
   "outputs": [
    {
     "name": "stderr",
     "output_type": "stream",
     "text": [
      "C:\\Users\\alexm\\anaconda3\\lib\\site-packages\\statsmodels\\graphics\\tsaplots.py:348: FutureWarning: The default method 'yw' can produce PACF values outside of the [-1,1] interval. After 0.13, the default will change tounadjusted Yule-Walker ('ywm'). You can use this method now by setting method='ywm'.\n",
      "  warnings.warn(\n"
     ]
    },
    {
     "data": {
      "image/png": "[encoded data removed]",
      "text/plain": [
       "<Figure size 432x288 with 1 Axes>"
      ]
     },
     "metadata": {
      "needs_background": "light"
     },
     "output_type": "display_data"
    }
   ],
   "source": [
    "# partial autocorrelations\n",
    "from matplotlib import pyplot\n",
    "from statsmodels.graphics.tsaplots import plot_pacf\n",
    "\n",
    "plot_pacf(log_data[:,1], lags=50)\n",
    "pyplot.show()\n",
    "\n",
    "# here we see a lag of 2 has a large +ve correlation with some other smaller significance in longer lags\n",
    "# some of this will be due to the size of the sample so will need to look at this further when larger datasets are used\n",
    "# possible that some seasonality is inherent in the data."
   ]
  },
  {
   "cell_type": "code",
   "execution_count": 3,
   "id": "26c37f54",
   "metadata": {},
   "outputs": [],
   "source": []
  },
  {
   "cell_type": "code",
   "execution_count": null,
   "id": "3237eab9",
   "metadata": {},
   "outputs": [],
   "source": []
  }
 ],
 "metadata": {
  "kernelspec": {
   "display_name": "Python 3 (ipykernel)",
   "language": "python",
   "name": "python3"
  },
  "language_info": {
   "codemirror_mode": {
    "name": "ipython",
    "version": 3
   },
   "file_extension": ".py",
   "mimetype": "text/x-python",
   "name": "python",
   "nbconvert_exporter": "python",
   "pygments_lexer": "ipython3",
   "version": "3.9.12"
  }
 },
 "nbformat": 4,
 "nbformat_minor": 5
}
