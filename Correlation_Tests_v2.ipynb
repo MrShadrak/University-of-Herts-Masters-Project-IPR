{
 "cells": [
  {
   "cell_type": "code",
   "execution_count": 31,
   "id": "bd7fd22e",
   "metadata": {},
   "outputs": [
    {
     "name": "stderr",
     "output_type": "stream",
     "text": [
      "C:\\Users\\alexm\\AppData\\Local\\Temp\\ipykernel_12988\\4247761149.py:10: DtypeWarning: Columns (0) have mixed types. Specify dtype option on import or set low_memory=False.\n",
      "  df = pd.read_csv(r'C:\\Users\\alexm\\FX_project\\2000_2024\\data2.csv')\n"
     ]
    },
    {
     "name": "stdout",
     "output_type": "stream",
     "text": [
      "<class 'pandas.core.frame.DataFrame'>\n",
      "RangeIndex: 5183 entries, 0 to 5182\n",
      "Data columns (total 63 columns):\n",
      " #   Column           Non-Null Count  Dtype         \n",
      "---  ------           --------------  -----         \n",
      " 0   DateID           5183 non-null   int64         \n",
      " 1   Date             5183 non-null   datetime64[ns]\n",
      " 2   Day              5183 non-null   float64       \n",
      " 3   Month            5183 non-null   float64       \n",
      " 4   Year             5183 non-null   float64       \n",
      " 5   Close_Mid        5183 non-null   float64       \n",
      " 6   Volume_Bid       5183 non-null   float64       \n",
      " 7   Volume_Ask       5183 non-null   float64       \n",
      " 8   Volume_Tot       5183 non-null   float64       \n",
      " 9   Close_Sprd       5183 non-null   float64       \n",
      " 10  5D-MA            5183 non-null   float64       \n",
      " 11  10D-MA           5183 non-null   float64       \n",
      " 12  20D-MA           5183 non-null   float64       \n",
      " 13  50D-MA           5183 non-null   float64       \n",
      " 14  200D-MA          5183 non-null   float64       \n",
      " 15  5D-Vol           5183 non-null   float64       \n",
      " 16  10D-Vol          5183 non-null   float64       \n",
      " 17  20D-Vol          5183 non-null   float64       \n",
      " 18  50D-Vol          5183 non-null   float64       \n",
      " 19  200D-Vol         5183 non-null   float64       \n",
      " 20  5D-ATR           5183 non-null   float64       \n",
      " 21  10D-ATR          5183 non-null   float64       \n",
      " 22  20D-ATR          5183 non-null   float64       \n",
      " 23  50D-ATR          5183 non-null   float64       \n",
      " 24  200D-ATR         5183 non-null   float64       \n",
      " 25  5D-ADX           5183 non-null   float64       \n",
      " 26  10D-ADX          5183 non-null   float64       \n",
      " 27  DIF              5183 non-null   float64       \n",
      " 28  DEA              5183 non-null   float64       \n",
      " 29  MACD             5183 non-null   float64       \n",
      " 30  14D-RSI          5183 non-null   float64       \n",
      " 31  StochOsc         5183 non-null   float64       \n",
      " 32  20D-Bol-Center   5183 non-null   float64       \n",
      " 33  20D-Bol-High     5183 non-null   float64       \n",
      " 34  20D-Bol-Low      5183 non-null   float64       \n",
      " 35  US-BaseRate      5183 non-null   float64       \n",
      " 36  UK-BaseRate      5183 non-null   float64       \n",
      " 37  US-5Y-Inf        5183 non-null   float64       \n",
      " 38  UK-5Y-Inf        5183 non-null   float64       \n",
      " 39  US-2Y-Int        5183 non-null   float64       \n",
      " 40  US-10Y-Int       5183 non-null   float64       \n",
      " 41  UK-2Y-Int        5183 non-null   float64       \n",
      " 42  UK-10Y-Int       5183 non-null   float64       \n",
      " 43  US-RealGDP       5183 non-null   float64       \n",
      " 44  US-NomGDP        5183 non-null   float64       \n",
      " 45  US-DispInc       5183 non-null   float64       \n",
      " 46  US-NomDispInc    5183 non-null   float64       \n",
      " 47  US-Unemp         5183 non-null   float64       \n",
      " 48  US-CPI           5183 non-null   float64       \n",
      " 49  US-HousePrice    5183 non-null   float64       \n",
      " 50  US-CommmRealEst  5183 non-null   float64       \n",
      " 51  US-MktVol        5183 non-null   float64       \n",
      " 52  UK-RealGDP       5183 non-null   float64       \n",
      " 53  UK-NomGDP        5183 non-null   float64       \n",
      " 54  UK-CPI           5183 non-null   float64       \n",
      " 55  UK-Unemp         5183 non-null   float64       \n",
      " 56  UK-CorpProf      5183 non-null   float64       \n",
      " 57  UK-HshldInc      5183 non-null   float64       \n",
      " 58  UK-ResPropInc    5183 non-null   float64       \n",
      " 59  UK-SecLend       5183 non-null   float64       \n",
      " 60  UK-ConsCred      5183 non-null   float64       \n",
      " 61  UK-RetailVol     5183 non-null   float64       \n",
      " 62  UK-MktVol        5183 non-null   float64       \n",
      "dtypes: datetime64[ns](1), float64(61), int64(1)\n",
      "memory usage: 2.5 MB\n"
     ]
    }
   ],
   "source": [
    "# download the dataset and normalise\n",
    "\n",
    "import torch\n",
    "import torch.nn as nn\n",
    "import torch.nn.functional as F\n",
    "import numpy as np\n",
    "import pandas as pd\n",
    "\n",
    "#load the consolidated dataset\n",
    "df = pd.read_csv(r'C:\\Users\\alexm\\FX_project\\2000_2024\\data2.csv')\n",
    "\n",
    "# remove extra rows and columns\n",
    "df = df.iloc[200:5383, 0:62]\n",
    "\n",
    "# reformat Local time variable as a datetime\n",
    "from datetime import datetime\n",
    "\n",
    "df['Date'] = df['Date'].str[6:10] +'-'+ df['Date'].str[3:5] +'-'+ df['Date'].str[0:2]\n",
    "df['Date'] = pd.to_datetime(df['Date'])\n",
    "\n",
    "# normalise data\n",
    "\n",
    "df_norm = df.iloc[:, 5:]\n",
    "df_dates = df.iloc[:, :5]\n",
    "\n",
    "for col in df_norm.columns:\n",
    "    df_norm[col] = (df_norm[col] - df_norm[col].mean())/ df_norm[col].std()\n",
    "\n",
    "x = df_norm.to_numpy()\n",
    "y = df_dates.to_numpy()\n",
    "cols = df.columns\n",
    "z = np.append(y,x, axis=1)\n",
    "\n",
    "df_norm2 = pd.DataFrame(z, columns=cols)\n",
    "\n",
    "# add an integer series to replace date for use in the ANN\n",
    "df_norm2['DateID'] = range(df_norm2.shape[0])\n",
    "first_column = df_norm2.pop('DateID') \n",
    "df_norm2.insert(0, 'DateID', first_column)\n",
    "\n",
    "df_norm2.iloc[:,2:] = df_norm2.iloc[:,2:].astype(float)\n",
    "\n",
    "df_norm2.info()"
   ]
  },
  {
   "cell_type": "code",
   "execution_count": 18,
   "id": "60d0eefd",
   "metadata": {},
   "outputs": [
    {
     "name": "stdout",
     "output_type": "stream",
     "text": [
      "Statistics=735.376, p=0.000\n",
      "Sample does not look Gaussian (reject H0)\n"
     ]
    }
   ],
   "source": [
    "# D'Agostino and Pearson's Test\n",
    "from scipy.stats import normaltest\n",
    "\n",
    "# normality test\n",
    "stat, p = normaltest(data[:,1])\n",
    "print('Statistics=%.3f, p=%.3f' % (stat, p))\n",
    "\n",
    "# interpret results\n",
    "alpha = 0.05\n",
    "if p > alpha:\n",
    "    print('Sample looks Gaussian (fail to reject H0)')\n",
    "else:\n",
    "    print('Sample does not look Gaussian (reject H0)')"
   ]
  },
  {
   "cell_type": "code",
   "execution_count": null,
   "id": "92360907",
   "metadata": {},
   "outputs": [],
   "source": [
    "# test for stationarity\n",
    "\n"
   ]
  },
  {
   "cell_type": "code",
   "execution_count": 20,
   "id": "6e54a45b",
   "metadata": {},
   "outputs": [
    {
     "data": {
      "text/plain": [
       "(array([ 13.,  45., 218., 533., 649., 314., 268., 184., 334., 560., 557.,\n",
       "        242., 108., 192., 225., 216., 124., 273., 103.,  25.]),\n",
       " array([1.06895  , 1.1208775, 1.172805 , 1.2247325, 1.27666  , 1.3285875,\n",
       "        1.380515 , 1.4324425, 1.48437  , 1.5362975, 1.588225 , 1.6401525,\n",
       "        1.69208  , 1.7440075, 1.795935 , 1.8478625, 1.89979  , 1.9517175,\n",
       "        2.003645 , 2.0555725, 2.1075   ]),\n",
       " <BarContainer object of 20 artists>)"
      ]
     },
     "execution_count": 20,
     "metadata": {},
     "output_type": "execute_result"
    },
    {
     "data": {
      "image/png": "[encoded data removed]",
      "text/plain": [
       "<Figure size 432x288 with 1 Axes>"
      ]
     },
     "metadata": {
      "needs_background": "light"
     },
     "output_type": "display_data"
    }
   ],
   "source": [
    "# check the distribution shape\n",
    "import matplotlib.pyplot as plt\n",
    "\n",
    "fig = plt.figure()\n",
    "plt.hist(data[:,1], bins=20)\n"
   ]
  },
  {
   "cell_type": "code",
   "execution_count": 19,
   "id": "a3ea640e",
   "metadata": {},
   "outputs": [
    {
     "name": "stdout",
     "output_type": "stream",
     "text": [
      "0.14220081344979127\n",
      "8.038435678793468e-25\n"
     ]
    }
   ],
   "source": [
    "# Spearman rank correlation\n",
    "from scipy.stats import spearmanr\n",
    "\n",
    "\n",
    "rho, p = spearmanr(data[:,0], data[:,1])\n",
    "\n",
    "print(rho)\n",
    "print(p)\n",
    "\n",
    "# with p value so small it is not statistically significant\n",
    "# we have to reject that this feature is correlated to the target"
   ]
  },
  {
   "cell_type": "code",
   "execution_count": 22,
   "id": "f76f02fa",
   "metadata": {
    "scrolled": true
   },
   "outputs": [
    {
     "data": {
      "image/png": "[encoded data removed]",
      "text/plain": [
       "<Figure size 432x288 with 1 Axes>"
      ]
     },
     "execution_count": 22,
     "metadata": {},
     "output_type": "execute_result"
    },
    {
     "data": {
      "image/png": "[encoded data removed]",
      "text/plain": [
       "<Figure size 432x288 with 1 Axes>"
      ]
     },
     "metadata": {
      "needs_background": "light"
     },
     "output_type": "display_data"
    }
   ],
   "source": [
    "# autocorrelations\n",
    "import pandas as pd\n",
    "from statsmodels.graphics.tsaplots import plot_acf\n",
    "\n",
    "# calculate autocorrelations and confidence interval with significance = alpha\n",
    "plot_acf(data[:,1], alpha = 0.05)\n",
    "\n",
    "# taking a long timeseries seems to lose any indication of structure here. Maybe we can look at this data piecewise"
   ]
  },
  {
   "cell_type": "code",
   "execution_count": 23,
   "id": "f5b4be29",
   "metadata": {},
   "outputs": [
    {
     "name": "stderr",
     "output_type": "stream",
     "text": [
      "C:\\Users\\alexm\\anaconda3\\lib\\site-packages\\statsmodels\\graphics\\tsaplots.py:348: FutureWarning: The default method 'yw' can produce PACF values outside of the [-1,1] interval. After 0.13, the default will change tounadjusted Yule-Walker ('ywm'). You can use this method now by setting method='ywm'.\n",
      "  warnings.warn(\n"
     ]
    },
    {
     "data": {
      "image/png": "[encoded data removed]",
      "text/plain": [
       "<Figure size 432x288 with 1 Axes>"
      ]
     },
     "metadata": {
      "needs_background": "light"
     },
     "output_type": "display_data"
    }
   ],
   "source": [
    "# partial autocorrelations\n",
    "from matplotlib import pyplot\n",
    "from statsmodels.graphics.tsaplots import plot_pacf\n",
    "\n",
    "plot_pacf(data[:,1], lags=50)\n",
    "pyplot.show()\n",
    "\n",
    "# here we see a lag of 2 contains all the autocorrelation for the full timeseries.\n",
    "# Again it looks like all the information has been diluted out of this data"
   ]
  },
  {
   "cell_type": "code",
   "execution_count": null,
   "id": "26c37f54",
   "metadata": {},
   "outputs": [],
   "source": [
    "# "
   ]
  }
 ],
 "metadata": {
  "kernelspec": {
   "display_name": "Python 3 (ipykernel)",
   "language": "python",
   "name": "python3"
  },
  "language_info": {
   "codemirror_mode": {
    "name": "ipython",
    "version": 3
   },
   "file_extension": ".py",
   "mimetype": "text/x-python",
   "name": "python",
   "nbconvert_exporter": "python",
   "pygments_lexer": "ipython3",
   "version": "3.9.12"
  }
 },
 "nbformat": 4,
 "nbformat_minor": 5
}
