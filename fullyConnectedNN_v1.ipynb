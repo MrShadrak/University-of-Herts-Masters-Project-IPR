{
 "cells": [
  {
   "cell_type": "code",
   "execution_count": 5,
   "id": "e1d814b6",
   "metadata": {},
   "outputs": [],
   "source": [
    "# this version will take the dataset without index so see if this effects the momentum\n",
    "\n",
    "import torch\n",
    "import torch.nn as nn\n",
    "import torch.nn.functional as F"
   ]
  },
  {
   "cell_type": "code",
   "execution_count": 6,
   "id": "16264325",
   "metadata": {},
   "outputs": [
    {
     "name": "stderr",
     "output_type": "stream",
     "text": [
      "C:\\Users\\alexm\\AppData\\Local\\Temp\\ipykernel_25576\\3067084044.py:5: DtypeWarning: Columns (0) have mixed types. Specify dtype option on import or set low_memory=False.\n",
      "  df = pd.read_csv(r'C:\\Users\\alexm\\FX_project\\2000_2024\\data2.csv')\n"
     ]
    },
    {
     "data": {
      "text/plain": [
       "5183"
      ]
     },
     "execution_count": 6,
     "metadata": {},
     "output_type": "execute_result"
    }
   ],
   "source": [
    "import numpy as np\n",
    "import pandas as pd\n",
    "\n",
    "#load the consolidated dataset\n",
    "df = pd.read_csv(r'C:\\Users\\alexm\\FX_project\\2000_2024\\data2.csv')\n",
    "\n",
    "# remove extra rows and columns\n",
    "df = df.iloc[200:5383, 0:62]\n",
    "\n",
    "# reformat Local time variable as a datetime\n",
    "from datetime import datetime\n",
    "\n",
    "df['Date'] = df['Date'].str[6:10] +'-'+ df['Date'].str[3:5] +'-'+ df['Date'].str[0:2]\n",
    "df['Date'] = pd.to_datetime(df['Date'])\n",
    "\n",
    "df.shape[0]"
   ]
  },
  {
   "cell_type": "code",
   "execution_count": 7,
   "id": "707c8173",
   "metadata": {
    "scrolled": true
   },
   "outputs": [
    {
     "name": "stdout",
     "output_type": "stream",
     "text": [
      "<class 'pandas.core.frame.DataFrame'>\n",
      "RangeIndex: 5183 entries, 0 to 5182\n",
      "Data columns (total 63 columns):\n",
      " #   Column           Non-Null Count  Dtype         \n",
      "---  ------           --------------  -----         \n",
      " 0   DateID           5183 non-null   int64         \n",
      " 1   Date             5183 non-null   datetime64[ns]\n",
      " 2   Day              5183 non-null   float64       \n",
      " 3   Month            5183 non-null   float64       \n",
      " 4   Year             5183 non-null   float64       \n",
      " 5   Close_Mid        5183 non-null   float64       \n",
      " 6   Volume_Bid       5183 non-null   float64       \n",
      " 7   Volume_Ask       5183 non-null   float64       \n",
      " 8   Volume_Tot       5183 non-null   float64       \n",
      " 9   Close_Sprd       5183 non-null   float64       \n",
      " 10  5D-MA            5183 non-null   float64       \n",
      " 11  10D-MA           5183 non-null   float64       \n",
      " 12  20D-MA           5183 non-null   float64       \n",
      " 13  50D-MA           5183 non-null   float64       \n",
      " 14  200D-MA          5183 non-null   float64       \n",
      " 15  5D-Vol           5183 non-null   float64       \n",
      " 16  10D-Vol          5183 non-null   float64       \n",
      " 17  20D-Vol          5183 non-null   float64       \n",
      " 18  50D-Vol          5183 non-null   float64       \n",
      " 19  200D-Vol         5183 non-null   float64       \n",
      " 20  5D-ATR           5183 non-null   float64       \n",
      " 21  10D-ATR          5183 non-null   float64       \n",
      " 22  20D-ATR          5183 non-null   float64       \n",
      " 23  50D-ATR          5183 non-null   float64       \n",
      " 24  200D-ATR         5183 non-null   float64       \n",
      " 25  5D-ADX           5183 non-null   float64       \n",
      " 26  10D-ADX          5183 non-null   float64       \n",
      " 27  DIF              5183 non-null   float64       \n",
      " 28  DEA              5183 non-null   float64       \n",
      " 29  MACD             5183 non-null   float64       \n",
      " 30  14D-RSI          5183 non-null   float64       \n",
      " 31  StochOsc         5183 non-null   float64       \n",
      " 32  20D-Bol-Center   5183 non-null   float64       \n",
      " 33  20D-Bol-High     5183 non-null   float64       \n",
      " 34  20D-Bol-Low      5183 non-null   float64       \n",
      " 35  US-BaseRate      5183 non-null   float64       \n",
      " 36  UK-BaseRate      5183 non-null   float64       \n",
      " 37  US-5Y-Inf        5183 non-null   float64       \n",
      " 38  UK-5Y-Inf        5183 non-null   float64       \n",
      " 39  US-2Y-Int        5183 non-null   float64       \n",
      " 40  US-10Y-Int       5183 non-null   float64       \n",
      " 41  UK-2Y-Int        5183 non-null   float64       \n",
      " 42  UK-10Y-Int       5183 non-null   float64       \n",
      " 43  US-RealGDP       5183 non-null   float64       \n",
      " 44  US-NomGDP        5183 non-null   float64       \n",
      " 45  US-DispInc       5183 non-null   float64       \n",
      " 46  US-NomDispInc    5183 non-null   float64       \n",
      " 47  US-Unemp         5183 non-null   float64       \n",
      " 48  US-CPI           5183 non-null   float64       \n",
      " 49  US-HousePrice    5183 non-null   float64       \n",
      " 50  US-CommmRealEst  5183 non-null   float64       \n",
      " 51  US-MktVol        5183 non-null   float64       \n",
      " 52  UK-RealGDP       5183 non-null   float64       \n",
      " 53  UK-NomGDP        5183 non-null   float64       \n",
      " 54  UK-CPI           5183 non-null   float64       \n",
      " 55  UK-Unemp         5183 non-null   float64       \n",
      " 56  UK-CorpProf      5183 non-null   float64       \n",
      " 57  UK-HshldInc      5183 non-null   float64       \n",
      " 58  UK-ResPropInc    5183 non-null   float64       \n",
      " 59  UK-SecLend       5183 non-null   float64       \n",
      " 60  UK-ConsCred      5183 non-null   float64       \n",
      " 61  UK-RetailVol     5183 non-null   float64       \n",
      " 62  UK-MktVol        5183 non-null   float64       \n",
      "dtypes: datetime64[ns](1), float64(61), int64(1)\n",
      "memory usage: 2.5 MB\n"
     ]
    }
   ],
   "source": [
    "# normalise data\n",
    "\n",
    "df_norm = df.iloc[:, 5:]\n",
    "df_dates = df.iloc[:, :5]\n",
    "\n",
    "for col in df_norm.columns:\n",
    "    df_norm[col] = (df_norm[col] - df_norm[col].mean())/ df_norm[col].std()\n",
    "\n",
    "x = df_norm.to_numpy()\n",
    "y = df_dates.to_numpy()\n",
    "cols = df.columns\n",
    "z = np.append(y,x, axis=1)\n",
    "\n",
    "df_norm2 = pd.DataFrame(z, columns=cols)\n",
    "\n",
    "# add an integer series to replace date for use in the ANN\n",
    "df_norm2['DateID'] = range(df_norm2.shape[0])\n",
    "first_column = df_norm2.pop('DateID') \n",
    "df_norm2.insert(0, 'DateID', first_column)\n",
    "\n",
    "df_norm2.iloc[:,2:] = df_norm2.iloc[:,2:].astype(float)\n",
    "\n",
    "df_norm2.info()"
   ]
  },
  {
   "cell_type": "code",
   "execution_count": 8,
   "id": "b19e3433",
   "metadata": {},
   "outputs": [],
   "source": [
    "# first a function to generate an n-step timeseries from one feature\n",
    "\n",
    "# i = length of time series, feat = name of column\n",
    "def datats(i,feat):\n",
    "    series = []\n",
    "    data = df_norm2[feat]\n",
    "    \n",
    "    # create the dataset\n",
    "    for j in range(len(data) - i +1):\n",
    "        series.append(data[j:j+i])\n",
    "    series = np.array(series)\n",
    "    series = np.asfarray(series)\n",
    "    \n",
    "    # create the column names\n",
    "    lst = []\n",
    "    cols = np.array(lst)\n",
    "    for k in range(i):\n",
    "        cols = np.append(cols,feat+'-'+str(k))\n",
    "    # generate the dataframe\n",
    "    df_ts = pd.DataFrame(series, columns=cols)\n",
    "\n",
    "    # add the date ID of the start of the timeseries for reference\n",
    "    df_ts['DateID'] = df_norm2['DateID'][0:len(data) - i +1]\n",
    "    # shift column 'C' to first position \n",
    "    first_column = df_ts.pop('DateID')\n",
    "    # insert column using insert(position,column_name,first_column) function \n",
    "    df_ts.insert(0, 'DateID', first_column)\n",
    "    \n",
    "    return df_ts\n"
   ]
  },
  {
   "cell_type": "code",
   "execution_count": 9,
   "id": "f8c5da81",
   "metadata": {},
   "outputs": [
    {
     "name": "stdout",
     "output_type": "stream",
     "text": [
      "<class 'pandas.core.frame.DataFrame'>\n",
      "RangeIndex: 5181 entries, 0 to 5180\n",
      "Data columns (total 4 columns):\n",
      " #   Column       Non-Null Count  Dtype  \n",
      "---  ------       --------------  -----  \n",
      " 0   DateID       5181 non-null   int64  \n",
      " 1   Close_Mid-0  5181 non-null   float64\n",
      " 2   Close_Mid-1  5181 non-null   float64\n",
      " 3   Close_Mid-2  5181 non-null   float64\n",
      "dtypes: float64(3), int64(1)\n",
      "memory usage: 162.0 KB\n"
     ]
    }
   ],
   "source": [
    "# function test\n",
    "x = datats(3,'Close_Mid')\n",
    "x.info()"
   ]
  },
  {
   "cell_type": "code",
   "execution_count": 10,
   "id": "4c1c9194",
   "metadata": {},
   "outputs": [
    {
     "name": "stdout",
     "output_type": "stream",
     "text": [
      "<class 'pandas.core.frame.DataFrame'>\n",
      "Int64Index: 4984 entries, 0 to 4983\n",
      "Columns: 5201 entries, DateID to UK-MktVol-199\n",
      "dtypes: float64(5200), int64(1)\n",
      "memory usage: 197.8 MB\n"
     ]
    }
   ],
   "source": [
    "# build a time series of m steps for input features and n for outputs \n",
    "\n",
    "feats = ['Volume_Tot','Close_Sprd','US-BaseRate', 'UK-BaseRate','UK-5Y-Inf','US-2Y-Int',\n",
    "                     'US-10Y-Int','UK-2Y-Int','UK-10Y-Int','US-RealGDP','US-Unemp', 'US-CPI','US-HousePrice',\n",
    "                     'US-CommmRealEst','US-MktVol','UK-RealGDP','UK-CPI','UK-Unemp','UK-CorpProf',\n",
    "                     'UK-HshldInc','UK-ResPropInc','UK-SecLend','UK-ConsCred','UK-RetailVol','UK-MktVol']\n",
    "m = 200\n",
    "n = 100\n",
    "\n",
    "ts_in = datats(m,'Close_Mid')\n",
    "\n",
    "for k in range(len(feats)):\n",
    "    temp = datats(m,feats[k])\n",
    "    ts_in = ts_in.merge(temp, on='DateID')\n",
    "\n",
    "ts_out = datats(n,'Close_Mid')\n",
    "ts_in.info()"
   ]
  },
  {
   "cell_type": "code",
   "execution_count": 11,
   "id": "9bd2eef2",
   "metadata": {},
   "outputs": [],
   "source": [
    "# trim the datasets to match assuming n<m (i.e. output timeseries is smaller than input)\n",
    "# note we need to reindex\n",
    "\n",
    "# remove the first m time steps from the output\n",
    "ts_out = ts_out.iloc[m:ts_out.shape[0],].reset_index()\n",
    "\n",
    "# remove the last n timesteps from the input\n",
    "ts_in = ts_in.iloc[0:ts_in.shape[0]-n,].reset_index()"
   ]
  },
  {
   "cell_type": "code",
   "execution_count": 12,
   "id": "c58b31b4",
   "metadata": {},
   "outputs": [
    {
     "name": "stdout",
     "output_type": "stream",
     "text": [
      "input\n",
      "(4884, 5202)\n",
      "0\n",
      "4883\n",
      "output\n",
      "(4884, 102)\n",
      "200\n",
      "5083\n"
     ]
    },
    {
     "data": {
      "text/plain": [
       "DateID           0.000000\n",
       "Close_Mid-0      1.860770\n",
       "Close_Mid-1      1.867550\n",
       "Close_Mid-2      1.890760\n",
       "Close_Mid-3      1.892390\n",
       "                   ...   \n",
       "UK-MktVol-195   -0.761344\n",
       "UK-MktVol-196   -0.761344\n",
       "UK-MktVol-197   -0.761344\n",
       "UK-MktVol-198   -0.761344\n",
       "UK-MktVol-199   -0.761344\n",
       "Name: 0, Length: 5201, dtype: float64"
      ]
     },
     "execution_count": 12,
     "metadata": {},
     "output_type": "execute_result"
    }
   ],
   "source": [
    "# align the dates of the \n",
    "print('input')\n",
    "print(ts_in.shape)\n",
    "print(ts_in['DateID'][0])\n",
    "print(ts_in['DateID'][ts_in.shape[0]-1])\n",
    "\n",
    "print('output')\n",
    "print(ts_out.shape)\n",
    "print(ts_out['DateID'][0])\n",
    "print(ts_out['DateID'][ts_out.shape[0]-1])\n",
    "\n",
    "ts_in.iloc[0,1:]"
   ]
  },
  {
   "cell_type": "code",
   "execution_count": 13,
   "id": "1e803aaa",
   "metadata": {},
   "outputs": [
    {
     "data": {
      "text/plain": [
       "array([1.84662 , 1.8526  , 1.859325, 1.849905, 1.85677 , 1.86023 ,\n",
       "       1.86862 , 1.88122 , 1.89174 , 1.89385 , 1.89335 , 1.90926 ,\n",
       "       1.93435 , 1.92401 , 1.94367 , 1.9385  , 1.94472 , 1.93442 ,\n",
       "       1.92538 , 1.91479 , 1.92502 , 1.9276  , 1.94176 , 1.93158 ,\n",
       "       1.94159 , 1.94616 , 1.92768 , 1.9166  , 1.92353 , 1.92363 ,\n",
       "       1.93386 , 1.9277  , 1.9182  , 1.92522 , 1.91819 , 1.90405 ,\n",
       "       1.88232 , 1.88254 , 1.8751  , 1.87074 , 1.87495 , 1.87798 ,\n",
       "       1.89048 , 1.88213 , 1.87033 , 1.8593  , 1.86606 , 1.87098 ,\n",
       "       1.87168 , 1.87678 , 1.88052 , 1.86395 , 1.88195 , 1.88917 ,\n",
       "       1.88789 , 1.88257 , 1.8839  , 1.8857  , 1.88188 , 1.8757  ,\n",
       "       1.85712 , 1.85437 , 1.85802 , 1.8684  , 1.86829 , 1.88757 ,\n",
       "       1.8968  , 1.88496 , 1.8951  , 1.89401 , 1.89684 , 1.91122 ,\n",
       "       1.90833 , 1.90942 , 1.91928 , 1.92075 , 1.92088 , 1.91394 ,\n",
       "       1.90659 , 1.92256 , 1.9141  , 1.92865 , 1.92521 , 1.9224  ,\n",
       "       1.92588 , 1.91341 , 1.91274 , 1.92597 , 1.92501 , 1.92196 ,\n",
       "       1.89638 , 1.88598 , 1.86874 , 1.86838 , 1.87031 , 1.86646 ,\n",
       "       1.87386 , 1.87808 , 1.89022 , 1.88183 ])"
      ]
     },
     "execution_count": 13,
     "metadata": {},
     "output_type": "execute_result"
    }
   ],
   "source": [
    "# generate data for test/train\n",
    "# exclude the index for inputs\n",
    "X = ts_in.iloc[:,1:].values\n",
    "\n",
    "# drop the Startdate and index for output\n",
    "y = ts_out.iloc[:,2:].values\n",
    "\n",
    "# check a value is as expected\n",
    "#X[0,]\n",
    "y[0,:]"
   ]
  },
  {
   "cell_type": "code",
   "execution_count": 14,
   "id": "3aea4942",
   "metadata": {
    "scrolled": true
   },
   "outputs": [
    {
     "name": "stdout",
     "output_type": "stream",
     "text": [
      "input\n",
      "(4884, 5201)\n",
      "0\n",
      "4883\n",
      "output\n",
      "(4884, 101)\n",
      "200\n",
      "5083\n"
     ]
    },
    {
     "data": {
      "text/html": [
       "<div>\n",
       "<style scoped>\n",
       "    .dataframe tbody tr th:only-of-type {\n",
       "        vertical-align: middle;\n",
       "    }\n",
       "\n",
       "    .dataframe tbody tr th {\n",
       "        vertical-align: top;\n",
       "    }\n",
       "\n",
       "    .dataframe thead th {\n",
       "        text-align: right;\n",
       "    }\n",
       "</style>\n",
       "<table border=\"1\" class=\"dataframe\">\n",
       "  <thead>\n",
       "    <tr style=\"text-align: right;\">\n",
       "      <th></th>\n",
       "      <th>DateID</th>\n",
       "      <th>Close_Mid-0</th>\n",
       "      <th>Close_Mid-1</th>\n",
       "      <th>Close_Mid-2</th>\n",
       "      <th>Close_Mid-3</th>\n",
       "      <th>Close_Mid-4</th>\n",
       "      <th>Close_Mid-5</th>\n",
       "      <th>Close_Mid-6</th>\n",
       "      <th>Close_Mid-7</th>\n",
       "      <th>Close_Mid-8</th>\n",
       "      <th>...</th>\n",
       "      <th>Close_Mid-90</th>\n",
       "      <th>Close_Mid-91</th>\n",
       "      <th>Close_Mid-92</th>\n",
       "      <th>Close_Mid-93</th>\n",
       "      <th>Close_Mid-94</th>\n",
       "      <th>Close_Mid-95</th>\n",
       "      <th>Close_Mid-96</th>\n",
       "      <th>Close_Mid-97</th>\n",
       "      <th>Close_Mid-98</th>\n",
       "      <th>Close_Mid-99</th>\n",
       "    </tr>\n",
       "  </thead>\n",
       "  <tbody>\n",
       "    <tr>\n",
       "      <th>0</th>\n",
       "      <td>200</td>\n",
       "      <td>1.846620</td>\n",
       "      <td>1.852600</td>\n",
       "      <td>1.859325</td>\n",
       "      <td>1.849905</td>\n",
       "      <td>1.85677</td>\n",
       "      <td>1.86023</td>\n",
       "      <td>1.86862</td>\n",
       "      <td>1.88122</td>\n",
       "      <td>1.89174</td>\n",
       "      <td>...</td>\n",
       "      <td>1.89638</td>\n",
       "      <td>1.88598</td>\n",
       "      <td>1.86874</td>\n",
       "      <td>1.86838</td>\n",
       "      <td>1.87031</td>\n",
       "      <td>1.86646</td>\n",
       "      <td>1.87386</td>\n",
       "      <td>1.87808</td>\n",
       "      <td>1.89022</td>\n",
       "      <td>1.88183</td>\n",
       "    </tr>\n",
       "    <tr>\n",
       "      <th>1</th>\n",
       "      <td>201</td>\n",
       "      <td>1.852600</td>\n",
       "      <td>1.859325</td>\n",
       "      <td>1.849905</td>\n",
       "      <td>1.856770</td>\n",
       "      <td>1.86023</td>\n",
       "      <td>1.86862</td>\n",
       "      <td>1.88122</td>\n",
       "      <td>1.89174</td>\n",
       "      <td>1.89385</td>\n",
       "      <td>...</td>\n",
       "      <td>1.88598</td>\n",
       "      <td>1.86874</td>\n",
       "      <td>1.86838</td>\n",
       "      <td>1.87031</td>\n",
       "      <td>1.86646</td>\n",
       "      <td>1.87386</td>\n",
       "      <td>1.87808</td>\n",
       "      <td>1.89022</td>\n",
       "      <td>1.88183</td>\n",
       "      <td>1.87511</td>\n",
       "    </tr>\n",
       "    <tr>\n",
       "      <th>2</th>\n",
       "      <td>202</td>\n",
       "      <td>1.859325</td>\n",
       "      <td>1.849905</td>\n",
       "      <td>1.856770</td>\n",
       "      <td>1.860230</td>\n",
       "      <td>1.86862</td>\n",
       "      <td>1.88122</td>\n",
       "      <td>1.89174</td>\n",
       "      <td>1.89385</td>\n",
       "      <td>1.89335</td>\n",
       "      <td>...</td>\n",
       "      <td>1.86874</td>\n",
       "      <td>1.86838</td>\n",
       "      <td>1.87031</td>\n",
       "      <td>1.86646</td>\n",
       "      <td>1.87386</td>\n",
       "      <td>1.87808</td>\n",
       "      <td>1.89022</td>\n",
       "      <td>1.88183</td>\n",
       "      <td>1.87511</td>\n",
       "      <td>1.88098</td>\n",
       "    </tr>\n",
       "    <tr>\n",
       "      <th>3</th>\n",
       "      <td>203</td>\n",
       "      <td>1.849905</td>\n",
       "      <td>1.856770</td>\n",
       "      <td>1.860230</td>\n",
       "      <td>1.868620</td>\n",
       "      <td>1.88122</td>\n",
       "      <td>1.89174</td>\n",
       "      <td>1.89385</td>\n",
       "      <td>1.89335</td>\n",
       "      <td>1.90926</td>\n",
       "      <td>...</td>\n",
       "      <td>1.86838</td>\n",
       "      <td>1.87031</td>\n",
       "      <td>1.86646</td>\n",
       "      <td>1.87386</td>\n",
       "      <td>1.87808</td>\n",
       "      <td>1.89022</td>\n",
       "      <td>1.88183</td>\n",
       "      <td>1.87511</td>\n",
       "      <td>1.88098</td>\n",
       "      <td>1.88046</td>\n",
       "    </tr>\n",
       "    <tr>\n",
       "      <th>4</th>\n",
       "      <td>204</td>\n",
       "      <td>1.856770</td>\n",
       "      <td>1.860230</td>\n",
       "      <td>1.868620</td>\n",
       "      <td>1.881220</td>\n",
       "      <td>1.89174</td>\n",
       "      <td>1.89385</td>\n",
       "      <td>1.89335</td>\n",
       "      <td>1.90926</td>\n",
       "      <td>1.93435</td>\n",
       "      <td>...</td>\n",
       "      <td>1.87031</td>\n",
       "      <td>1.86646</td>\n",
       "      <td>1.87386</td>\n",
       "      <td>1.87808</td>\n",
       "      <td>1.89022</td>\n",
       "      <td>1.88183</td>\n",
       "      <td>1.87511</td>\n",
       "      <td>1.88098</td>\n",
       "      <td>1.88046</td>\n",
       "      <td>1.86936</td>\n",
       "    </tr>\n",
       "  </tbody>\n",
       "</table>\n",
       "<p>5 rows × 101 columns</p>\n",
       "</div>"
      ],
      "text/plain": [
       "   DateID  Close_Mid-0  Close_Mid-1  Close_Mid-2  Close_Mid-3  Close_Mid-4  \\\n",
       "0     200     1.846620     1.852600     1.859325     1.849905      1.85677   \n",
       "1     201     1.852600     1.859325     1.849905     1.856770      1.86023   \n",
       "2     202     1.859325     1.849905     1.856770     1.860230      1.86862   \n",
       "3     203     1.849905     1.856770     1.860230     1.868620      1.88122   \n",
       "4     204     1.856770     1.860230     1.868620     1.881220      1.89174   \n",
       "\n",
       "   Close_Mid-5  Close_Mid-6  Close_Mid-7  Close_Mid-8  ...  Close_Mid-90  \\\n",
       "0      1.86023      1.86862      1.88122      1.89174  ...       1.89638   \n",
       "1      1.86862      1.88122      1.89174      1.89385  ...       1.88598   \n",
       "2      1.88122      1.89174      1.89385      1.89335  ...       1.86874   \n",
       "3      1.89174      1.89385      1.89335      1.90926  ...       1.86838   \n",
       "4      1.89385      1.89335      1.90926      1.93435  ...       1.87031   \n",
       "\n",
       "   Close_Mid-91  Close_Mid-92  Close_Mid-93  Close_Mid-94  Close_Mid-95  \\\n",
       "0       1.88598       1.86874       1.86838       1.87031       1.86646   \n",
       "1       1.86874       1.86838       1.87031       1.86646       1.87386   \n",
       "2       1.86838       1.87031       1.86646       1.87386       1.87808   \n",
       "3       1.87031       1.86646       1.87386       1.87808       1.89022   \n",
       "4       1.86646       1.87386       1.87808       1.89022       1.88183   \n",
       "\n",
       "   Close_Mid-96  Close_Mid-97  Close_Mid-98  Close_Mid-99  \n",
       "0       1.87386       1.87808       1.89022       1.88183  \n",
       "1       1.87808       1.89022       1.88183       1.87511  \n",
       "2       1.89022       1.88183       1.87511       1.88098  \n",
       "3       1.88183       1.87511       1.88098       1.88046  \n",
       "4       1.87511       1.88098       1.88046       1.86936  \n",
       "\n",
       "[5 rows x 101 columns]"
      ]
     },
     "execution_count": 14,
     "metadata": {},
     "output_type": "execute_result"
    }
   ],
   "source": [
    "# check the dataframes have what we need\n",
    "print('input')\n",
    "print(ts_in.iloc[:,1:].shape)\n",
    "print(ts_in.iloc[:,1:]['DateID'][0])\n",
    "print(ts_in.iloc[:,1:]['DateID'][ts_in.shape[0]-1])\n",
    "\n",
    "print('output')\n",
    "print(ts_out.iloc[:,1:].shape)\n",
    "print(ts_out.iloc[:,1:]['DateID'][0])\n",
    "print(ts_out.iloc[:,1:]['DateID'][ts_out.shape[0]-1])\n",
    "\n",
    "ts_out.iloc[:,1:].head()"
   ]
  },
  {
   "cell_type": "code",
   "execution_count": 15,
   "id": "64d36c1e",
   "metadata": {},
   "outputs": [],
   "source": [
    "# the data we have generated is a \"pure forecast\" with no scenario analysis. to get a scenario analysis we need\n",
    "# to include data for the scenario by appending the additional n steps for features to the input\n",
    "# we end up with m nodes for the input layer of the timeseries we are forecasting and m+n nodes for each feature\n",
    "# i will create the scenario forecast in the next version"
   ]
  },
  {
   "cell_type": "code",
   "execution_count": 16,
   "id": "a72d3acb",
   "metadata": {},
   "outputs": [
    {
     "name": "stdout",
     "output_type": "stream",
     "text": [
      "1421.52\n"
     ]
    }
   ],
   "source": [
    "# Generate an adaptable fully connected neural net with the correct size of input/ouput layers from the above dataset\n",
    "nodes = 1000\n",
    "\n",
    "model = nn.Sequential(nn.Linear(ts_in.iloc[:,1:].shape[1], nodes),nn.LeakyReLU(negative_slope=0.2),\n",
    "                      nn.Linear(nodes,nodes),nn.LeakyReLU(negative_slope=0.2),\n",
    "                      nn.Linear(nodes,nodes),nn.LeakyReLU(negative_slope=0.2),\n",
    "                      nn.Linear(nodes,nodes),nn.LeakyReLU(negative_slope=0.2),\n",
    "                      nn.Linear(nodes,nodes),nn.LeakyReLU(negative_slope=0.2),\n",
    "                      nn.Linear(nodes,nodes),nn.LeakyReLU(negative_slope=0.2),\n",
    "                      nn.Linear(nodes,nodes),nn.LeakyReLU(negative_slope=0.2),\n",
    "                      nn.Linear(nodes, ts_out.iloc[:,2:].shape[1]),nn.LeakyReLU(negative_slope=0.2))\n",
    "\n",
    "# Tanh, Sigmoid don't work very well since the range of the functions is limited to [-1,1] or [0,1]\n",
    "\n",
    "# set parameters of the learning\n",
    "criterion = nn.MSELoss()\n",
    "epochs = 1000\n",
    "rand_st = 42 # random state\n",
    "\n",
    "# optimiser and learning rate\n",
    "opt = torch.optim.Adam(model.parameters(), lr = 0.001)\n",
    "\n",
    "# container for tests\n",
    "results = np.empty((0, 5))\n",
    "\n",
    "\n",
    "# train the model\n",
    "from sklearn.model_selection import train_test_split\n",
    "\n",
    "X_train, X_test, y_train, y_test = train_test_split(X, y, test_size = 0.2, random_state=rand_st)\n",
    "\n",
    "# convert to tensor for use in pyTorch\n",
    "X_train = torch.FloatTensor(X_train)\n",
    "X_test = torch.FloatTensor(X_test)\n",
    "y_train = torch.FloatTensor(y_train)\n",
    "y_test = torch.FloatTensor(y_test)\n",
    "\n",
    "# seed a random number to replicate data\n",
    "torch.manual_seed(rand_st)\n",
    "\n",
    "# train the model and capture the time taken\n",
    "\n",
    "import time\n",
    "t_start = time.time()\n",
    "\n",
    "for i in range(epochs):\n",
    "    # create predictions\n",
    "    y_pred = model(X_train)\n",
    "\n",
    "    # calculate loss and add to the list\n",
    "    loss = criterion(y_pred, y_train)\n",
    "\n",
    "    # performs back propogation\n",
    "    opt.zero_grad()\n",
    "    loss.backward()\n",
    "    opt.step()\n",
    "\n",
    "t_stop = time.time()\n",
    "process_time = round((t_stop - t_start), 2)\n",
    "print(process_time)\n",
    "\n",
    "# calculate a prediction\n",
    "pred = model(torch.FloatTensor(X))\n"
   ]
  },
  {
   "cell_type": "code",
   "execution_count": 31,
   "id": "75e9f376",
   "metadata": {},
   "outputs": [
    {
     "data": {
      "text/plain": [
       "torch.Size([4884, 100])"
      ]
     },
     "execution_count": 31,
     "metadata": {},
     "output_type": "execute_result"
    }
   ],
   "source": [
    "pred.shape"
   ]
  },
  {
   "cell_type": "code",
   "execution_count": 18,
   "id": "20c7bed5",
   "metadata": {},
   "outputs": [
    {
     "data": {
      "text/plain": [
       "tensor([[1.9258, 1.9287, 1.9359,  ..., 1.8412, 1.8433, 1.8487],\n",
       "        [1.9250, 1.9278, 1.9349,  ..., 1.8418, 1.8438, 1.8492],\n",
       "        [1.9241, 1.9268, 1.9339,  ..., 1.8421, 1.8441, 1.8494],\n",
       "        ...,\n",
       "        [1.2722, 1.2823, 1.2726,  ..., 1.2218, 1.2234, 1.2182],\n",
       "        [1.2749, 1.2851, 1.2752,  ..., 1.2221, 1.2236, 1.2185],\n",
       "        [1.2770, 1.2871, 1.2773,  ..., 1.2244, 1.2260, 1.2209]],\n",
       "       grad_fn=<LeakyReluBackward0>)"
      ]
     },
     "execution_count": 18,
     "metadata": {},
     "output_type": "execute_result"
    }
   ],
   "source": [
    "pred"
   ]
  },
  {
   "cell_type": "code",
   "execution_count": 41,
   "id": "c90c98d8",
   "metadata": {},
   "outputs": [
    {
     "name": "stdout",
     "output_type": "stream",
     "text": [
      "MSE loss: tensor(0.0008, grad_fn=<MseLossBackward0>)\n"
     ]
    }
   ],
   "source": [
    "# calculate the MSE for this model\n",
    "mse = nn.MSELoss()\n",
    "\n",
    "# create a target tensor from the ts_out dataframe\n",
    "target = torch.FloatTensor(ts_out.iloc[:,2:].values)\n",
    "output = mse(pred, target)\n",
    "print(\"MSE loss:\", output.item())"
   ]
  },
  {
   "cell_type": "code",
   "execution_count": null,
   "id": "2e47592d",
   "metadata": {},
   "outputs": [],
   "source": []
  },
  {
   "cell_type": "code",
   "execution_count": 38,
   "id": "9b744cde",
   "metadata": {},
   "outputs": [],
   "source": []
  },
  {
   "cell_type": "code",
   "execution_count": null,
   "id": "af21eb9d",
   "metadata": {},
   "outputs": [],
   "source": []
  }
 ],
 "metadata": {
  "kernelspec": {
   "display_name": "Python 3 (ipykernel)",
   "language": "python",
   "name": "python3"
  },
  "language_info": {
   "codemirror_mode": {
    "name": "ipython",
    "version": 3
   },
   "file_extension": ".py",
   "mimetype": "text/x-python",
   "name": "python",
   "nbconvert_exporter": "python",
   "pygments_lexer": "ipython3",
   "version": "3.9.12"
  }
 },
 "nbformat": 4,
 "nbformat_minor": 5
}
